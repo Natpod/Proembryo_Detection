{
 "cells": [
  {
   "cell_type": "markdown",
   "id": "27e95d3f-86ea-44af-b974-3c0253f019ca",
   "metadata": {},
   "source": [
    "# Imágenes referencia de cebada - cargado y conversión jpg"
   ]
  },
  {
   "cell_type": "markdown",
   "id": "69b8b907-3706-4cd9-bfcb-04c1d046efd4",
   "metadata": {},
   "source": [
    "por ahora solo una réplica del control 2 - \n",
    "\n",
    "acordarse de balance de histograma (en canal blanco-negro) cuando se vayan a predecir conteos en otras imágenes con otros parámetros (brillo - contraste)"
   ]
  },
  {
   "cell_type": "code",
   "execution_count": 4,
   "id": "e81e9f8a-d27a-4972-886b-cb1aa9fc02d6",
   "metadata": {},
   "outputs": [],
   "source": [
    "# importar librerías\n",
    "import cv2\n",
    "import numpy as np\n",
    "from PIL import Image, ImageTk\n",
    "import os\n",
    "Image.MAX_IMAGE_PIXELS = None"
   ]
  },
  {
   "cell_type": "code",
   "execution_count": 3,
   "id": "7e5ada8f-9d90-4c8e-b53f-69b51db72733",
   "metadata": {},
   "outputs": [],
   "source": [
    "dirname = \"Z:\\\\CRISTINA\\\\16.10.23 Cultivo Hv + CIB123 1 uM\\\\Control\\\\2\""
   ]
  },
  {
   "cell_type": "code",
   "execution_count": 4,
   "id": "d1a2bb37-906c-425a-b043-62beaabd485d",
   "metadata": {},
   "outputs": [],
   "source": [
    "out_dirname = \"C:\\\\Users\\\\Usuario\\\\Desktop\\\\cebada test\""
   ]
  },
  {
   "cell_type": "code",
   "execution_count": 7,
   "id": "48194762-c50d-48bb-ab93-94bc2c76f934",
   "metadata": {},
   "outputs": [],
   "source": [
    "for file_path in os.listdir(dirname): #\n",
    "    # Leer la imagen\n",
    "    if \"Metadata\" not in file_path:\n",
    "        image = Image.open(dirname+\"\\\\\"+str(file_path))\n",
    "        Z = np.array(image, dtype=\"uint8\")\n",
    "        cv2.imwrite(out_dirname+\"\\\\\"+str(file_path)+\".png\",Z)"
   ]
  },
  {
   "cell_type": "markdown",
   "id": "faefb5d5-49d6-4602-bf75-1cad4917992c",
   "metadata": {},
   "source": [
    "Balance histograma"
   ]
  },
  {
   "cell_type": "code",
   "execution_count": 6,
   "id": "8b915eb5-0108-4b1b-a830-63d9af749398",
   "metadata": {},
   "outputs": [],
   "source": [
    "from skimage import data\n",
    "from skimage import exposure\n",
    "from skimage.exposure import match_histograms"
   ]
  },
  {
   "cell_type": "code",
   "execution_count": null,
   "id": "56e0beb4-e81d-4de3-ae73-b2d1c9b4a534",
   "metadata": {},
   "outputs": [],
   "source": [
    "dirname_i = \"\"\n",
    "outdirname_i = \"\"\n",
    "\n",
    "ref_i = \"\"\n",
    "\n",
    "ref_image = Image.open(ref_i)\n",
    "ref_image = np.array(ref_image, dtype=\"uint8\")\n",
    "\n",
    "for file_path in os.listdir(dirname_i): #\n",
    "    if \"Metadata\" not in file_path:\n",
    "        image_tomatch = Image.open(dirname_i+\"\\\\\"+str(file_path))\n",
    "        image_tomatch = np.array(image_tomatch, dtype=\"uint8\")\n",
    "        matched = match_histograms(image_tomatch, ref_image, channel_axis=None) #grayscale image\n",
    "        cv2.imwrite(outdirname_i+\"\\\\\"+str(file_path)+\".png\",matched)"
   ]
  },
  {
   "cell_type": "markdown",
   "id": "b897c0b7-1d5a-45d4-a2a8-7b36e4c08dd8",
   "metadata": {},
   "source": [
    "# PROCESAMIENTO DE MASCARAS RESULTANTES JSON"
   ]
  },
  {
   "cell_type": "markdown",
   "id": "ce417c1f-0ee8-45ad-b6bc-7f14c50d185f",
   "metadata": {},
   "source": [
    "Import"
   ]
  },
  {
   "cell_type": "code",
   "execution_count": 5,
   "id": "d2b602b0-a80b-43ff-861b-d1466f4401aa",
   "metadata": {},
   "outputs": [],
   "source": [
    "import json"
   ]
  },
  {
   "cell_type": "markdown",
   "id": "11e17060-c69d-4552-824a-694a41e9a3d0",
   "metadata": {},
   "source": [
    "# Reading JSON file"
   ]
  },
  {
   "cell_type": "code",
   "execution_count": 10,
   "id": "375a2212-e436-4591-bece-23501390d414",
   "metadata": {},
   "outputs": [],
   "source": [
    "dirmasks = \"C:\\\\Users\\\\Usuario\\\\Desktop\\\\cebada test\\\\train\\\\mascaras_json\\\\3samplesbarley.json\""
   ]
  },
  {
   "cell_type": "code",
   "execution_count": 16,
   "id": "6f4baf97-58ea-40d4-adf3-0c07c1f08d0d",
   "metadata": {},
   "outputs": [],
   "source": [
    "f = open(dirmasks, \"r\")\n",
    "data = json.load(f)\n",
    "data = data[\"_via_img_metadata\"]"
   ]
  },
  {
   "cell_type": "code",
   "execution_count": 27,
   "id": "686c452c-fcae-4440-ae84-6e3cffd5fb41",
   "metadata": {},
   "outputs": [],
   "source": [
    "img_dir = \"C:\\\\Users\\\\Usuario\\\\Desktop\\\\cebada test\\\\train\\\\images\"\n",
    "mask_dir = \"C:\\\\Users\\\\Usuario\\\\Desktop\\\\cebada test\\\\train\\\\mask\""
   ]
  },
  {
   "cell_type": "code",
   "execution_count": 33,
   "id": "6d7bc3cd-28e5-48f8-af2b-a1b028df32ca",
   "metadata": {},
   "outputs": [
    {
     "name": "stdout",
     "output_type": "stream",
     "text": [
      "c.tif.png\n",
      "c0001.tif.png\n",
      "c0003.tif.png\n"
     ]
    }
   ],
   "source": [
    "for key, value in data.items():\n",
    "    \n",
    "    filename = value[\"filename\"]\n",
    "    print(filename)\n",
    "    img_path = f\"{img_dir}\\\\{filename}\"\n",
    "    img = cv2.imread(img_path, cv2.IMREAD_GRAYSCALE)\n",
    "    \n",
    "    h, w =img.shape\n",
    "    \n",
    "    \n",
    "    regions = value[\"regions\"]\n",
    "\n",
    "    microspore_counter = 0\n",
    "    proembryo_counter = 0\n",
    "\n",
    "    # per region, segment and create a mask\n",
    "    for region in regions:\n",
    "        \n",
    "        # if proembryo\n",
    "        if region[\"region_attributes\"][\"name\"] == \"proembryo\":\n",
    "            \n",
    "            mask = np.zeros((h,w))\n",
    "            \n",
    "            proembryo_counter = proembryo_counter + 1\n",
    "            \n",
    "            shape_attributes = region[\"shape_attributes\"]\n",
    "            xc = shape_attributes[\"cx\"]\n",
    "            yc = shape_attributes[\"cy\"]\n",
    "            radius = int(shape_attributes[\"r\"])\n",
    "            \n",
    "            cv2.circle(mask, (xc,yc) , radius, 255, -1)\n",
    "            cv2.imwrite(f\"{mask_dir}\\\\{filename}_PROEMBRYO_{proembryo_counter}.png\", mask)\n",
    "\n",
    "            mask = np.zeros((h,w))\n",
    "        \n",
    "        # if microspore\n",
    "        if region[\"region_attributes\"][\"name\"] == \"microspore\":\n",
    "\n",
    "            mask = np.zeros((h,w))\n",
    "            microspore_counter = microspore_counter + 1\n",
    "            \n",
    "            shape_attributes = region[\"shape_attributes\"]\n",
    "            xpoints = shape_attributes[\"all_points_x\"]\n",
    "            ypoints = shape_attributes[\"all_points_y\"]\n",
    "    \n",
    "            contours = []\n",
    "            for x , y in zip(xpoints, ypoints):\n",
    "                contours.append((x,y))\n",
    "            contours = np.array(contours)\n",
    "        \n",
    "            cv2.drawContours(mask, [contours], -1, 255, -1)\n",
    "            cv2.imwrite(f\"{mask_dir}\\\\{filename}_MICROSPORE_{microspore_counter}.png\", mask)\n",
    "\n",
    "            mask = np.zeros((h,w))\n",
    "        \n",
    "        "
   ]
  },
  {
   "cell_type": "markdown",
   "id": "70aa55a3-a629-4524-b9bb-e671fa6fafdc",
   "metadata": {},
   "source": [
    "UNET MASK FORMAT\n",
    "0 FOR BACKGROUND\n",
    "1 FOR MICROSPORE\n",
    "2 FOR PROEMBRYO\n",
    "\n",
    "IN EACH PIXEL"
   ]
  },
  {
   "cell_type": "code",
   "execution_count": 55,
   "id": "3d9f6cc9-d160-425d-b055-1e52af6e8416",
   "metadata": {},
   "outputs": [
    {
     "name": "stdout",
     "output_type": "stream",
     "text": [
      "c.tif.png\n",
      "c0001.tif.png\n",
      "c0003.tif.png\n"
     ]
    }
   ],
   "source": [
    "for key, value in data.items():\n",
    "    \n",
    "    filename = value[\"filename\"]\n",
    "    print(filename)\n",
    "    img_path = f\"{img_dir}\\\\{filename}\"\n",
    "    img = cv2.imread(img_path, cv2.IMREAD_GRAYSCALE)\n",
    "    \n",
    "    h, w =img.shape\n",
    "    \n",
    "    mask = np.zeros((h,w))\n",
    "    \n",
    "    regions = value[\"regions\"]\n",
    "\n",
    "    microspore_counter = 0\n",
    "    proembryo_counter = 0\n",
    "\n",
    "    # per region, segment and create a mask\n",
    "    for region in regions:\n",
    "        \n",
    "        # if proembryo\n",
    "        if region[\"region_attributes\"][\"name\"] == \"proembryo\":\n",
    "            \n",
    "            \n",
    "            \n",
    "            proembryo_counter = proembryo_counter + 1\n",
    "            \n",
    "            shape_attributes = region[\"shape_attributes\"]\n",
    "            xc = shape_attributes[\"cx\"]\n",
    "            yc = shape_attributes[\"cy\"]\n",
    "            radius = int(shape_attributes[\"r\"])\n",
    "            \n",
    "            cv2.circle(mask, (xc,yc) , radius, 200, -1)\n",
    "            \n",
    "\n",
    "            \n",
    "        \n",
    "        # if microspore\n",
    "        if region[\"region_attributes\"][\"name\"] == \"microspore\":\n",
    "\n",
    "            \n",
    "            microspore_counter = microspore_counter + 1\n",
    "            \n",
    "            shape_attributes = region[\"shape_attributes\"]\n",
    "            xpoints = shape_attributes[\"all_points_x\"]\n",
    "            ypoints = shape_attributes[\"all_points_y\"]\n",
    "    \n",
    "            contours = []\n",
    "            for x , y in zip(xpoints, ypoints):\n",
    "                contours.append((x,y))\n",
    "            contours = np.array(contours)\n",
    "        \n",
    "            cv2.drawContours(mask, [contours], -1, 255, -1)\n",
    "\n",
    "\n",
    "    # pass all microspore values to 1, background is left as 0\n",
    "    ind_x, ind_y = np.where(mask ==255, )\n",
    "    mask[ind_x, ind_y]=1\n",
    "\n",
    "    \n",
    "    # pass all proembryo values to 2\n",
    "    ind_x, ind_y = np.where(mask ==200, )\n",
    "    mask[ind_x, ind_y]=2\n",
    "    \n",
    "    \n",
    "    cv2.imwrite(f\"{mask_dir}\\\\{filename}\", mask)\n",
    "\n",
    "    mask = np.zeros((h,w))\n",
    "\n",
    "            \n",
    "        \n",
    "        "
   ]
  },
  {
   "cell_type": "code",
   "execution_count": 10,
   "id": "3ba3903f-8840-4b6d-9506-244ef776e89a",
   "metadata": {},
   "outputs": [],
   "source": [
    "dirmasks = \"C:\\\\Users\\\\Usuario\\\\Desktop\\\\cebada test\\\\train\\\\mascaras_json\\\\test2.json\""
   ]
  },
  {
   "cell_type": "code",
   "execution_count": 11,
   "id": "921d6d98-2bbf-4fd7-9e58-ac830fcf1f20",
   "metadata": {},
   "outputs": [],
   "source": [
    "f = open(dirmasks, \"r\")\n",
    "data = json.load(f)\n",
    "data = data[\"_via_img_metadata\"]"
   ]
  },
  {
   "cell_type": "code",
   "execution_count": 12,
   "id": "4b092889-f0d1-4079-b39c-4a1e36e22774",
   "metadata": {},
   "outputs": [],
   "source": [
    "img_dir = \"C:\\\\Users\\\\Usuario\\\\Desktop\\\\cebada test\\\\test\\\\images\"\n",
    "mask_dir = \"C:\\\\Users\\\\Usuario\\\\Desktop\\\\cebada test\\\\test\\\\mask\""
   ]
  },
  {
   "cell_type": "code",
   "execution_count": 13,
   "id": "e4147950-7e61-4903-aca8-f34c880aee49",
   "metadata": {},
   "outputs": [
    {
     "name": "stdout",
     "output_type": "stream",
     "text": [
      "c0002.tif.png\n",
      "c0004.tif.png\n",
      "c0005.tif.png\n",
      "c0010.tif.png\n",
      "c0011.tif.png\n",
      "c0012.tif.png\n",
      "c0017.tif.png\n",
      "c0018.tif.png\n",
      "c0019.tif.png\n",
      "c0006.tif.png\n",
      "c0007.tif.png\n",
      "c0008.tif.png\n",
      "c0009.tif.png\n",
      "c0013.tif.png\n",
      "c0014.tif.png\n",
      "c0015.tif.png\n",
      "c0016.tif.png\n"
     ]
    }
   ],
   "source": [
    "for key, value in data.items():\n",
    "    \n",
    "    filename = value[\"filename\"]\n",
    "    print(filename)\n",
    "    img_path = f\"{img_dir}\\\\{filename}\"\n",
    "    img = cv2.imread(img_path, cv2.IMREAD_GRAYSCALE)\n",
    "    \n",
    "    h, w =img.shape\n",
    "    \n",
    "    mask = np.zeros((h,w))\n",
    "    \n",
    "    regions = value[\"regions\"]\n",
    "\n",
    "    microspore_counter = 0\n",
    "    proembryo_counter = 0\n",
    "\n",
    "    # per region, segment and create a mask\n",
    "    for region in regions:\n",
    "        \n",
    "        # if proembryo\n",
    "        if region[\"region_attributes\"][\"name\"] == \"proembryo\":\n",
    "            \n",
    "            \n",
    "            \n",
    "            proembryo_counter = proembryo_counter + 1\n",
    "            \n",
    "            shape_attributes = region[\"shape_attributes\"]\n",
    "            xc = shape_attributes[\"cx\"]\n",
    "            yc = shape_attributes[\"cy\"]\n",
    "            radius = int(shape_attributes[\"r\"])\n",
    "            \n",
    "            cv2.circle(mask, (xc,yc) , radius, 200, -1)\n",
    "            \n",
    "\n",
    "            \n",
    "        \n",
    "        # if microspore\n",
    "        if region[\"region_attributes\"][\"name\"] == \"microspore\":\n",
    "\n",
    "            \n",
    "            microspore_counter = microspore_counter + 1\n",
    "            \n",
    "            shape_attributes = region[\"shape_attributes\"]\n",
    "            xpoints = shape_attributes[\"all_points_x\"]\n",
    "            ypoints = shape_attributes[\"all_points_y\"]\n",
    "    \n",
    "            contours = []\n",
    "            for x , y in zip(xpoints, ypoints):\n",
    "                contours.append((x,y))\n",
    "            contours = np.array(contours)\n",
    "        \n",
    "            cv2.drawContours(mask, [contours], -1, 255, -1)\n",
    "\n",
    "\n",
    "    # pass all microspore values to 1, background is left as 0\n",
    "    ind_x, ind_y = np.where(mask ==255, )\n",
    "    mask[ind_x, ind_y]=1\n",
    "\n",
    "    \n",
    "    # pass all proembryo values to 2\n",
    "    ind_x, ind_y = np.where(mask ==200, )\n",
    "    mask[ind_x, ind_y]=2\n",
    "    \n",
    "    \n",
    "    cv2.imwrite(f\"{mask_dir}\\\\{filename}\", mask)\n",
    "\n",
    "    mask = np.zeros((h,w))\n",
    "\n",
    "            \n",
    "        \n",
    "        "
   ]
  },
  {
   "cell_type": "code",
   "execution_count": null,
   "id": "3649751c-35b2-43a5-953c-cbc6016bbecb",
   "metadata": {},
   "outputs": [],
   "source": []
  }
 ],
 "metadata": {
  "kernelspec": {
   "display_name": "Python 3 (ipykernel)",
   "language": "python",
   "name": "python3"
  },
  "language_info": {
   "codemirror_mode": {
    "name": "ipython",
    "version": 3
   },
   "file_extension": ".py",
   "mimetype": "text/x-python",
   "name": "python",
   "nbconvert_exporter": "python",
   "pygments_lexer": "ipython3",
   "version": "3.11.5"
  }
 },
 "nbformat": 4,
 "nbformat_minor": 5
}
